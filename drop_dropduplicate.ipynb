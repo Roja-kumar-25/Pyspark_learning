{
 "cells": [
  {
   "cell_type": "markdown",
   "metadata": {},
   "source": [
    "Drop and Drop duplicate"
   ]
  },
  {
   "cell_type": "code",
   "execution_count": 3,
   "metadata": {},
   "outputs": [],
   "source": [
    "from pyspark.sql import SparkSession\n",
    "from pyspark.sql.functions import expr\n"
   ]
  },
  {
   "cell_type": "code",
   "execution_count": 4,
   "metadata": {},
   "outputs": [
    {
     "name": "stderr",
     "output_type": "stream",
     "text": [
      "24/09/11 11:23:49 WARN Utils: Your hostname, AI-CJB-LAP-459 resolves to a loopback address: 127.0.1.1; using 192.168.1.164 instead (on interface wlp0s20f3)\n",
      "24/09/11 11:23:49 WARN Utils: Set SPARK_LOCAL_IP if you need to bind to another address\n",
      "Setting default log level to \"WARN\".\n",
      "To adjust logging level use sc.setLogLevel(newLevel). For SparkR, use setLogLevel(newLevel).\n",
      "24/09/11 11:23:49 WARN NativeCodeLoader: Unable to load native-hadoop library for your platform... using builtin-java classes where applicable\n",
      "24/09/11 11:23:50 WARN Utils: Service 'SparkUI' could not bind on port 4040. Attempting port 4041.\n"
     ]
    }
   ],
   "source": [
    "spark=SparkSession.builder.appName(\"dropduplicate.com\").getOrCreate()"
   ]
  },
  {
   "cell_type": "code",
   "execution_count": 17,
   "metadata": {},
   "outputs": [],
   "source": [
    "data= [(\"James\", \"Sales\", 3000), \\\n",
    "    (\"James\", \"Sales\", 3000), \\\n",
    "    (\"Michael\", \"Sales\", 4600), \\\n",
    "    (\"Robert\", \"Sales\", 4100), \\\n",
    "    (\"Maria\", \"Finance\", 3000), \\\n",
    "    (\"James\", \"Sales\", 3000), \\\n",
    "    (\"Scott\", \"Finance\", 3300), \\\n",
    "    (\"Jen\", \"Finance\", 3900), \\\n",
    "    (\"Jeff\", \"Marketing\", 3000), \\\n",
    "    (\"Kumar\", \"Marketing\", 2000), \\\n",
    "    (\"Saif\", \"Sales\", 4100) \\\n",
    "  ]\n",
    "columns=[\"emp_name\",\"department\",\"salary\"]\n",
    "df=spark.createDataFrame(data=data,schema=columns)"
   ]
  },
  {
   "cell_type": "code",
   "execution_count": 18,
   "metadata": {},
   "outputs": [
    {
     "name": "stdout",
     "output_type": "stream",
     "text": [
      "+--------+----------+------+\n",
      "|emp_name|department|salary|\n",
      "+--------+----------+------+\n",
      "|   James|     Sales|  3000|\n",
      "|   James|     Sales|  3000|\n",
      "| Michael|     Sales|  4600|\n",
      "|  Robert|     Sales|  4100|\n",
      "|   Maria|   Finance|  3000|\n",
      "|   James|     Sales|  3000|\n",
      "|   Scott|   Finance|  3300|\n",
      "|     Jen|   Finance|  3900|\n",
      "|    Jeff| Marketing|  3000|\n",
      "|   Kumar| Marketing|  2000|\n",
      "|    Saif|     Sales|  4100|\n",
      "+--------+----------+------+\n",
      "\n"
     ]
    }
   ],
   "source": [
    "df.show()"
   ]
  },
  {
   "cell_type": "markdown",
   "metadata": {},
   "source": [
    "CREATING A DISTINCT ROWS (BY COMPARING ALL COLUMNS)"
   ]
  },
  {
   "cell_type": "code",
   "execution_count": 19,
   "metadata": {},
   "outputs": [
    {
     "name": "stdout",
     "output_type": "stream",
     "text": [
      "distinct count=9\n",
      "+--------+----------+------+\n",
      "|emp_name|department|salary|\n",
      "+--------+----------+------+\n",
      "|   James|     Sales|  3000|\n",
      "| Michael|     Sales|  4600|\n",
      "|  Robert|     Sales|  4100|\n",
      "|   Maria|   Finance|  3000|\n",
      "|     Jen|   Finance|  3900|\n",
      "|   Scott|   Finance|  3300|\n",
      "|    Jeff| Marketing|  3000|\n",
      "|   Kumar| Marketing|  2000|\n",
      "|    Saif|     Sales|  4100|\n",
      "+--------+----------+------+\n",
      "\n"
     ]
    }
   ],
   "source": [
    "distinct_df=df.distinct()\n",
    "print(\"distinct count=\"+str(distinct_df.count()))\n",
    "distinct_df.show()"
   ]
  },
  {
   "cell_type": "markdown",
   "metadata": {},
   "source": [
    "DROP THE DUPLICATES"
   ]
  },
  {
   "cell_type": "code",
   "execution_count": 20,
   "metadata": {},
   "outputs": [
    {
     "name": "stdout",
     "output_type": "stream",
     "text": [
      "distinct count=9\n",
      "+--------+----------+------+\n",
      "|emp_name|department|salary|\n",
      "+--------+----------+------+\n",
      "|   James|     Sales|  3000|\n",
      "| Michael|     Sales|  4600|\n",
      "|  Robert|     Sales|  4100|\n",
      "|   Maria|   Finance|  3000|\n",
      "|     Jen|   Finance|  3900|\n",
      "|   Scott|   Finance|  3300|\n",
      "|    Jeff| Marketing|  3000|\n",
      "|   Kumar| Marketing|  2000|\n",
      "|    Saif|     Sales|  4100|\n",
      "+--------+----------+------+\n",
      "\n"
     ]
    }
   ],
   "source": [
    "unique_df=df.dropDuplicates()\n",
    "print(\"distinct count=\"+str(unique_df.count()))\n",
    "unique_df.show()"
   ]
  },
  {
   "cell_type": "markdown",
   "metadata": {},
   "source": [
    "DROP THE DUPLICATES WITH SPECIFIED COLUMNS"
   ]
  },
  {
   "cell_type": "code",
   "execution_count": 23,
   "metadata": {},
   "outputs": [
    {
     "name": "stdout",
     "output_type": "stream",
     "text": [
      "unique values  = 8\n",
      "+--------+----------+------+\n",
      "|emp_name|department|salary|\n",
      "+--------+----------+------+\n",
      "|   Maria|   Finance|  3000|\n",
      "|   Scott|   Finance|  3300|\n",
      "|     Jen|   Finance|  3900|\n",
      "|   Kumar| Marketing|  2000|\n",
      "|    Jeff| Marketing|  3000|\n",
      "|   James|     Sales|  3000|\n",
      "|  Robert|     Sales|  4100|\n",
      "| Michael|     Sales|  4600|\n",
      "+--------+----------+------+\n",
      "\n"
     ]
    }
   ],
   "source": [
    "drop_df=df.dropDuplicates([\"department\",\"salary\"])\n",
    "print(\"unique values  = \"+str(drop_df.count()))\n",
    "drop_df.show()"
   ]
  }
 ],
 "metadata": {
  "kernelspec": {
   "display_name": "Python 3",
   "language": "python",
   "name": "python3"
  },
  "language_info": {
   "codemirror_mode": {
    "name": "ipython",
    "version": 3
   },
   "file_extension": ".py",
   "mimetype": "text/x-python",
   "name": "python",
   "nbconvert_exporter": "python",
   "pygments_lexer": "ipython3",
   "version": "3.10.12"
  }
 },
 "nbformat": 4,
 "nbformat_minor": 2
}
