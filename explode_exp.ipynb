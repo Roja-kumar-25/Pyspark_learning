{
 "cells": [
  {
   "cell_type": "markdown",
   "metadata": {},
   "source": [
    "    EXPLODE OPERATIONS IN PYSPARK"
   ]
  },
  {
   "cell_type": "code",
   "execution_count": 24,
   "metadata": {},
   "outputs": [],
   "source": [
    "import pyspark\n",
    "from pyspark.sql import SparkSession\n",
    "from pyspark.sql.functions import explode,explode_outer,posexplode,posexplode_outer"
   ]
  },
  {
   "cell_type": "code",
   "execution_count": 4,
   "metadata": {},
   "outputs": [
    {
     "name": "stderr",
     "output_type": "stream",
     "text": [
      "24/09/09 16:38:41 WARN Utils: Your hostname, AI-CJB-LAP-459 resolves to a loopback address: 127.0.1.1; using 192.168.1.164 instead (on interface wlp0s20f3)\n",
      "24/09/09 16:38:41 WARN Utils: Set SPARK_LOCAL_IP if you need to bind to another address\n",
      "Setting default log level to \"WARN\".\n",
      "To adjust logging level use sc.setLogLevel(newLevel). For SparkR, use setLogLevel(newLevel).\n",
      "24/09/09 16:38:42 WARN NativeCodeLoader: Unable to load native-hadoop library for your platform... using builtin-java classes where applicable\n",
      "24/09/09 16:38:42 WARN Utils: Service 'SparkUI' could not bind on port 4040. Attempting port 4041.\n"
     ]
    },
    {
     "name": "stdout",
     "output_type": "stream",
     "text": [
      "root\n",
      " |-- name: string (nullable = true)\n",
      " |-- knownLanguages: array (nullable = true)\n",
      " |    |-- element: string (containsNull = true)\n",
      " |-- properties: map (nullable = true)\n",
      " |    |-- key: string\n",
      " |    |-- value: string (valueContainsNull = true)\n",
      "\n"
     ]
    },
    {
     "name": "stderr",
     "output_type": "stream",
     "text": [
      "                                                                                \r"
     ]
    },
    {
     "name": "stdout",
     "output_type": "stream",
     "text": [
      "+----------+-------------------+--------------------+\n",
      "|      name|     knownLanguages|          properties|\n",
      "+----------+-------------------+--------------------+\n",
      "|     James|      [Java, Scala]|{eye -> brown, ha...|\n",
      "|   Michael|[Spark, Java, NULL]|{eye -> NULL, hai...|\n",
      "|    Robert|         [CSharp, ]|{eye -> , hair ->...|\n",
      "|Washington|               NULL|                NULL|\n",
      "| Jefferson|             [1, 2]|                  {}|\n",
      "+----------+-------------------+--------------------+\n",
      "\n"
     ]
    }
   ],
   "source": [
    "spark=SparkSession.builder.appName(\"explode tutorial.com\").getOrCreate()\n",
    "\n",
    "data=[\n",
    "        ('James',['Java','Scala'],{'hair':'black','eye':'brown'}),\n",
    "        ('Michael',['Spark','Java',None],{'hair':'brown','eye':None}),\n",
    "        ('Robert',['CSharp',''],{'hair':'red','eye':''}),\n",
    "        ('Washington',None,None),\n",
    "        ('Jefferson',['1','2'],{})\n",
    "]\n",
    "df = spark.createDataFrame(data=data, schema = ['name','knownLanguages','properties'])\n",
    "df.printSchema()\n",
    "df.show()"
   ]
  },
  {
   "cell_type": "markdown",
   "metadata": {},
   "source": [
    "EXPLODE-ARRAY COLUMN "
   ]
  },
  {
   "cell_type": "code",
   "execution_count": 6,
   "metadata": {},
   "outputs": [
    {
     "name": "stdout",
     "output_type": "stream",
     "text": [
      "root\n",
      " |-- name: string (nullable = true)\n",
      " |-- col: string (nullable = true)\n",
      "\n",
      "+---------+------+\n",
      "|     name|   col|\n",
      "+---------+------+\n",
      "|    James|  Java|\n",
      "|    James| Scala|\n",
      "|  Michael| Spark|\n",
      "|  Michael|  Java|\n",
      "|  Michael|  NULL|\n",
      "|   Robert|CSharp|\n",
      "|   Robert|      |\n",
      "|Jefferson|     1|\n",
      "|Jefferson|     2|\n",
      "+---------+------+\n",
      "\n"
     ]
    }
   ],
   "source": [
    "df2=df.select(df.name,explode(df.knownLanguages))\n",
    "df2.printSchema()\n",
    "df2.show()"
   ]
  },
  {
   "cell_type": "markdown",
   "metadata": {},
   "source": [
    "EXPLODE-MAP COLUMN"
   ]
  },
  {
   "cell_type": "code",
   "execution_count": 9,
   "metadata": {},
   "outputs": [
    {
     "name": "stdout",
     "output_type": "stream",
     "text": [
      "root\n",
      " |-- name: string (nullable = true)\n",
      " |-- key: string (nullable = false)\n",
      " |-- value: string (nullable = true)\n",
      " |-- col: string (nullable = true)\n",
      "\n",
      "+-------+----+-----+------+\n",
      "|   name| key|value|   col|\n",
      "+-------+----+-----+------+\n",
      "|  James| eye|brown|  Java|\n",
      "|  James| eye|brown| Scala|\n",
      "|  James|hair|black|  Java|\n",
      "|  James|hair|black| Scala|\n",
      "|Michael| eye| NULL| Spark|\n",
      "|Michael| eye| NULL|  Java|\n",
      "|Michael| eye| NULL|  NULL|\n",
      "|Michael|hair|brown| Spark|\n",
      "|Michael|hair|brown|  Java|\n",
      "|Michael|hair|brown|  NULL|\n",
      "| Robert| eye|     |CSharp|\n",
      "| Robert| eye|     |      |\n",
      "| Robert|hair|  red|CSharp|\n",
      "| Robert|hair|  red|      |\n",
      "+-------+----+-----+------+\n",
      "\n"
     ]
    }
   ],
   "source": [
    "df3=df.select(df.name,explode(df.properties),explode(df.knownLanguages))\n",
    "df3.printSchema()\n",
    "df3.show()"
   ]
  },
  {
   "cell_type": "markdown",
   "metadata": {},
   "source": [
    "EXPLODE-OUTER COLUMN"
   ]
  },
  {
   "cell_type": "code",
   "execution_count": 16,
   "metadata": {},
   "outputs": [
    {
     "name": "stdout",
     "output_type": "stream",
     "text": [
      "+----------+------+----+-----+\n",
      "|      name|   col| key|value|\n",
      "+----------+------+----+-----+\n",
      "|     James|  Java| eye|brown|\n",
      "|     James|  Java|hair|black|\n",
      "|     James| Scala| eye|brown|\n",
      "|     James| Scala|hair|black|\n",
      "|   Michael| Spark| eye| NULL|\n",
      "|   Michael| Spark|hair|brown|\n",
      "|   Michael|  Java| eye| NULL|\n",
      "|   Michael|  Java|hair|brown|\n",
      "|   Michael|  NULL| eye| NULL|\n",
      "|   Michael|  NULL|hair|brown|\n",
      "|    Robert|CSharp| eye|     |\n",
      "|    Robert|CSharp|hair|  red|\n",
      "|    Robert|      | eye|     |\n",
      "|    Robert|      |hair|  red|\n",
      "|Washington|  NULL|NULL| NULL|\n",
      "| Jefferson|     1|NULL| NULL|\n",
      "| Jefferson|     2|NULL| NULL|\n",
      "+----------+------+----+-----+\n",
      "\n"
     ]
    }
   ],
   "source": [
    "df.select(df.name,explode_outer(df.knownLanguages),explode_outer(df.properties)).show()"
   ]
  },
  {
   "cell_type": "markdown",
   "metadata": {},
   "source": [
    "POSEXPLODE-EXPLODE ARRAY OR MAP ELEMENTS TO ROWS"
   ]
  },
  {
   "cell_type": "code",
   "execution_count": 30,
   "metadata": {},
   "outputs": [
    {
     "name": "stdout",
     "output_type": "stream",
     "text": [
      "+---------+--------+---------------+\n",
      "|     name|position|languages_known|\n",
      "+---------+--------+---------------+\n",
      "|    James|       0|           Java|\n",
      "|    James|       1|          Scala|\n",
      "|  Michael|       0|          Spark|\n",
      "|  Michael|       1|           Java|\n",
      "|  Michael|       2|           NULL|\n",
      "|   Robert|       0|         CSharp|\n",
      "|   Robert|       1|               |\n",
      "|Jefferson|       0|              1|\n",
      "|Jefferson|       1|              2|\n",
      "+---------+--------+---------------+\n",
      "\n",
      "+-------+--------+--------------+-----------------+\n",
      "|   name|position|properties_key|properties_values|\n",
      "+-------+--------+--------------+-----------------+\n",
      "|  James|       0|           eye|            brown|\n",
      "|  James|       1|          hair|            black|\n",
      "|Michael|       0|           eye|             NULL|\n",
      "|Michael|       1|          hair|            brown|\n",
      "| Robert|       0|           eye|                 |\n",
      "| Robert|       1|          hair|              red|\n",
      "+-------+--------+--------------+-----------------+\n",
      "\n"
     ]
    }
   ],
   "source": [
    "df.select(df.name,posexplode(df.knownLanguages).alias(\"position\",\"languages_known\")).show()\n",
    "df.select(df.name,posexplode(df.properties).alias(\"position\",\"properties_key\",\"properties_values\")).show()"
   ]
  },
  {
   "cell_type": "markdown",
   "metadata": {},
   "source": [
    "POSEXPLODE_OUTER -CREATE ROWS OF EACH ELEMENT IN AN ARRAY OR MAP"
   ]
  },
  {
   "cell_type": "code",
   "execution_count": 35,
   "metadata": {},
   "outputs": [
    {
     "name": "stdout",
     "output_type": "stream",
     "text": [
      "+----------+--------+----+-----+\n",
      "|      name|position| key|value|\n",
      "+----------+--------+----+-----+\n",
      "|     James|       0| eye|brown|\n",
      "|     James|       1|hair|black|\n",
      "|   Michael|       0| eye| NULL|\n",
      "|   Michael|       1|hair|brown|\n",
      "|    Robert|       0| eye|     |\n",
      "|    Robert|       1|hair|  red|\n",
      "|Washington|    NULL|NULL| NULL|\n",
      "| Jefferson|    NULL|NULL| NULL|\n",
      "+----------+--------+----+-----+\n",
      "\n"
     ]
    }
   ],
   "source": [
    "df.select(df.name,posexplode_outer(df.properties).alias(\"position\",\"key\",\"value\")).show()"
   ]
  }
 ],
 "metadata": {
  "kernelspec": {
   "display_name": "base",
   "language": "python",
   "name": "python3"
  },
  "language_info": {
   "codemirror_mode": {
    "name": "ipython",
    "version": 3
   },
   "file_extension": ".py",
   "mimetype": "text/x-python",
   "name": "python",
   "nbconvert_exporter": "python",
   "pygments_lexer": "ipython3",
   "version": "3.12.4"
  }
 },
 "nbformat": 4,
 "nbformat_minor": 2
}
