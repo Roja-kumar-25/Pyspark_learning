{
 "cells": [
  {
   "cell_type": "code",
   "execution_count": 2,
   "metadata": {},
   "outputs": [
    {
     "name": "stdout",
     "output_type": "stream",
     "text": [
      "+-----------+----+--------+\n",
      "| courseName| fee|discount|\n",
      "+-----------+----+--------+\n",
      "|    mongodb|4500|      10|\n",
      "|    pyspark|6000|       5|\n",
      "|datascience|7000|      15|\n",
      "+-----------+----+--------+\n",
      "\n",
      "+-----------+----+--------+---------+----------------+\n",
      "| CourseName| fee|discount|new_price|Discounted Price|\n",
      "+-----------+----+--------+---------+----------------+\n",
      "|    MONGODB|4500|      10|     3500|          3150.0|\n",
      "|    PYSPARK|6000|       5|     5000|          4750.0|\n",
      "|DATASCIENCE|7000|      15|     6000|          5100.0|\n",
      "+-----------+----+--------+---------+----------------+\n",
      "\n"
     ]
    }
   ],
   "source": [
    "from pyspark.sql import SparkSession\n",
    "from pyspark.sql.functions import upper, transform\n",
    "\n",
    "transform_df=[(\"mongodb\",4500,10),\n",
    "              (\"pyspark\",6000,5),\n",
    "              (\"datascience\",7000,15)\n",
    "              ]\n",
    "columns=[\"courseName\",\"fee\",\"discount\"]\n",
    "spark=SparkSession.builder.appName(\"transform_exp.com\").getOrCreate()\n",
    "trans_df=spark.createDataFrame(data=transform_df,schema=columns)\n",
    "trans_df.show()\n",
    "\n",
    "def ucaseCourse(trans_df):\n",
    "    return trans_df.withColumn(\"CourseName\",upper(trans_df.courseName))\n",
    "def reduce_price(trans_df,reduceBy):\n",
    "    return trans_df.withColumn(\"new_price\",trans_df.fee- reduceBy)\n",
    "def discountedPrice(trans_df):\n",
    "    return trans_df.withColumn(\"Discounted Price\",trans_df.new_price-(trans_df.new_price*trans_df.discount)/100)\n",
    "\n",
    "obj=trans_df.transform(ucaseCourse)\\\n",
    "    .transform(reduce_price,1000)\\\n",
    "        .transform(discountedPrice)\n",
    "    \n",
    "obj.show()"
   ]
  }
 ],
 "metadata": {
  "kernelspec": {
   "display_name": "Python 3",
   "language": "python",
   "name": "python3"
  },
  "language_info": {
   "codemirror_mode": {
    "name": "ipython",
    "version": 3
   },
   "file_extension": ".py",
   "mimetype": "text/x-python",
   "name": "python",
   "nbconvert_exporter": "python",
   "pygments_lexer": "ipython3",
   "version": "3.10.12"
  }
 },
 "nbformat": 4,
 "nbformat_minor": 2
}
