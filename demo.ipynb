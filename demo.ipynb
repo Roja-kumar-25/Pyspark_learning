{
 "cells": [
  {
   "cell_type": "markdown",
   "metadata": {},
   "source": [
    "Spark learning path"
   ]
  },
  {
   "cell_type": "code",
   "execution_count": 2,
   "metadata": {},
   "outputs": [
    {
     "name": "stderr",
     "output_type": "stream",
     "text": [
      "24/09/09 09:42:19 WARN Utils: Your hostname, AI-CJB-LAP-459 resolves to a loopback address: 127.0.1.1; using 192.168.1.164 instead (on interface wlp0s20f3)\n",
      "24/09/09 09:42:19 WARN Utils: Set SPARK_LOCAL_IP if you need to bind to another address\n",
      "Setting default log level to \"WARN\".\n",
      "To adjust logging level use sc.setLogLevel(newLevel). For SparkR, use setLogLevel(newLevel).\n",
      "24/09/09 09:42:19 WARN NativeCodeLoader: Unable to load native-hadoop library for your platform... using builtin-java classes where applicable\n"
     ]
    }
   ],
   "source": [
    "import pyspark\n",
    "\n",
    "from pyspark.sql import SparkSession\n",
    "spark= SparkSession.builder.appName(\"sparkapp\").getOrCreate()\n",
    "\n",
    "from pyspark.sql.functions import lit, col,sum,when,mode,trim\n",
    "from pyspark.ml.feature import Imputer,StringIndexer"
   ]
  },
  {
   "cell_type": "code",
   "execution_count": 125,
   "metadata": {},
   "outputs": [
    {
     "name": "stdout",
     "output_type": "stream",
     "text": [
      "+---+----+-----+\n",
      "| id|name|marks|\n",
      "+---+----+-----+\n",
      "|  1|  A1|   55|\n",
      "|  2|  A2|   66|\n",
      "|  3|  A3|   77|\n",
      "+---+----+-----+\n",
      "\n",
      "+---+----+-----+\n",
      "| id|name|marks|\n",
      "+---+----+-----+\n",
      "|  1|  A1|   55|\n",
      "|  2|  A2|   66|\n",
      "|  3|  A3|   77|\n",
      "+---+----+-----+\n",
      "\n"
     ]
    }
   ],
   "source": [
    "\n",
    "df = spark.read.option(\"header\",\"true\").csv(\"/home/ai/Documents/sampleDataset.csv\")\n",
    "\n",
    "df.show()\n",
    "\n",
    "df = df.filter(col(\"name\").isNotNull())\n",
    "df.show()"
   ]
  },
  {
   "cell_type": "code",
   "execution_count": 31,
   "metadata": {},
   "outputs": [],
   "source": [
    "data = [(('James','','Smith'),'1991-04-01','M',3000),\n",
    "  (('Michael','Rose',''),'2000-05-19','M',4000),\n",
    "  (('Robert','','Williams'),'1978-09-05','M',4000),\n",
    "  (('Maria','Anne','Jones'),'1967-12-01','F',4000),\n",
    "  (('Jen','Mary','Brown'),'1980-02-17','F',-1)\n",
    "]"
   ]
  },
  {
   "cell_type": "code",
   "execution_count": 18,
   "metadata": {},
   "outputs": [
    {
     "name": "stdout",
     "output_type": "stream",
     "text": [
      "+----+---+------+------+\n",
      "|Name|Age|Gender|Course|\n",
      "+----+---+------+------+\n",
      "+----+---+------+------+\n",
      "\n"
     ]
    }
   ],
   "source": [
    "filtered_df = df.filter(col(\"Gender\").isNull())\n",
    "\n",
    "filtered_df.show()\n"
   ]
  },
  {
   "cell_type": "code",
   "execution_count": 98,
   "metadata": {},
   "outputs": [
    {
     "name": "stdout",
     "output_type": "stream",
     "text": [
      "+------+---+------+------+\n",
      "|  Name|Age|Gender|Course|\n",
      "+------+---+------+------+\n",
      "|dhivya| 20|      |   EEE|\n",
      "+------+---+------+------+\n",
      "\n",
      "1\n"
     ]
    }
   ],
   "source": [
    "# df = df.withColumn(\"Gender\",trim(col(\"Gender\")))\n",
    "# # df = df.filter(df['Gender'] == '')\n",
    "# # empty_gender_df.show()\n",
    "# df.show()\n",
    "# print(df.count())"
   ]
  },
  {
   "cell_type": "code",
   "execution_count": 19,
   "metadata": {},
   "outputs": [
    {
     "name": "stdout",
     "output_type": "stream",
     "text": [
      "+---------+---+------+------+\n",
      "|     Name|Age|Gender|Course|\n",
      "+---------+---+------+------+\n",
      "|   dhivya| 20|  NULL|   EEE|\n",
      "|   dhivya| 20|  NULL|   EEE|\n",
      "|  sowmiya| 21|     F|   ECE|\n",
      "|     guru| 22|     M|   CSE|\n",
      "|santhusta| 20|     F| AI&ML|\n",
      "|   Janani| 21|     F| AI&DS|\n",
      "+---------+---+------+------+\n",
      "\n"
     ]
    }
   ],
   "source": [
    "df= df.withColumn(\n",
    "    'Gender',\n",
    "    when(col('Gender') .isin([\"\",' ',\"? \",\"~\"] ),None).otherwise(col('Gender'))\n",
    ")\n",
    "df.show()"
   ]
  },
  {
   "cell_type": "code",
   "execution_count": 20,
   "metadata": {},
   "outputs": [
    {
     "name": "stdout",
     "output_type": "stream",
     "text": [
      "+------+---+------+------+\n",
      "|  Name|Age|Gender|Course|\n",
      "+------+---+------+------+\n",
      "|dhivya| 20|  NULL|   EEE|\n",
      "|dhivya| 20|  NULL|   EEE|\n",
      "+------+---+------+------+\n",
      "\n"
     ]
    }
   ],
   "source": [
    "filtered_df = df.filter(col(\"Gender\").isNull())\n",
    "\n",
    "filtered_df.show()"
   ]
  },
  {
   "cell_type": "code",
   "execution_count": 21,
   "metadata": {},
   "outputs": [
    {
     "name": "stdout",
     "output_type": "stream",
     "text": [
      "Row(Gender='F', count=3)\n"
     ]
    }
   ],
   "source": [
    "mode_row = df.groupBy('Gender').count().orderBy('count', ascending=False).first()\n",
    "if mode_row:\n",
    "    mode_gender = mode_row['Gender']  \n",
    "else:\n",
    "    mode_gender = None\n",
    "    \n",
    "print(mode_row)"
   ]
  },
  {
   "cell_type": "code",
   "execution_count": 22,
   "metadata": {},
   "outputs": [
    {
     "name": "stdout",
     "output_type": "stream",
     "text": [
      "F\n",
      "+---------+---+------+------+\n",
      "|     Name|Age|Gender|Course|\n",
      "+---------+---+------+------+\n",
      "|   dhivya| 20|     F|   EEE|\n",
      "|   dhivya| 20|     F|   EEE|\n",
      "|  sowmiya| 21|     F|   ECE|\n",
      "|     guru| 22|     M|   CSE|\n",
      "|santhusta| 20|     F| AI&ML|\n",
      "|   Janani| 21|     F| AI&DS|\n",
      "+---------+---+------+------+\n",
      "\n"
     ]
    }
   ],
   "source": [
    "# mode_gender = df.groupBy('Gender').count().orderBy('count', ascending=False).first()[0]\n",
    "# print(mode_gender)\n",
    "df=df.na.fill({'Gender': mode_gender})\n",
    "print(mode_gender)\n",
    "df.show()"
   ]
  },
  {
   "cell_type": "code",
   "execution_count": 23,
   "metadata": {},
   "outputs": [],
   "source": [
    "indexer = StringIndexer(inputCol=\"Gender\", outputCol=\"Gender_indexed\")\n",
    "df_indexed = indexer.fit(df).transform(df)"
   ]
  },
  {
   "cell_type": "code",
   "execution_count": 24,
   "metadata": {},
   "outputs": [
    {
     "name": "stdout",
     "output_type": "stream",
     "text": [
      "+---------+---+------+------+\n",
      "|     Name|Age|Gender|Course|\n",
      "+---------+---+------+------+\n",
      "|   dhivya| 20|     F|   EEE|\n",
      "|   dhivya| 20|     F|   EEE|\n",
      "|  sowmiya| 21|     F|   ECE|\n",
      "|     guru| 22|     M|   CSE|\n",
      "|santhusta| 20|     F| AI&ML|\n",
      "|   Janani| 21|     F| AI&DS|\n",
      "+---------+---+------+------+\n",
      "\n"
     ]
    }
   ],
   "source": [
    "indexer = StringIndexer(inputCol=\"Gender\", outputCol=\"Gender_indexed\")\n",
    "df_indexed = indexer.fit(df).transform(df)\n",
    "\n",
    "# Imputing the indexed column\n",
    "imputer = Imputer(inputCols=[\"Gender_indexed\"], outputCols=[\"Gender_imputed\"]).setStrategy(\"mode\")\n",
    "model = imputer.fit(df_indexed)\n",
    "df_imputed = model.transform(df_indexed)\n",
    "df.show()"
   ]
  },
  {
   "cell_type": "markdown",
   "metadata": {},
   "source": [
    "base schema with nested structure"
   ]
  },
  {
   "cell_type": "code",
   "execution_count": 27,
   "metadata": {},
   "outputs": [],
   "source": [
    "from pyspark.sql.types import StructType, StructField,StringType, IntegerType\n",
    "schema = StructType([StructField(\"name\",StructType([\n",
    "        StructField(\"firstname\", StringType(),True),\n",
    "        \n",
    "        StructField(\"lastname\", StringType(),True)\n",
    "    ])),\n",
    "    StructField(\"dob\", StringType(),True),\n",
    "    StructField(\"gender\", StringType(),True),\n",
    "    StructField(\"gender\",IntegerType(),True)\n",
    "])"
   ]
  },
  {
   "cell_type": "code",
   "execution_count": null,
   "metadata": {},
   "outputs": [],
   "source": []
  }
 ],
 "metadata": {
  "kernelspec": {
   "display_name": "base",
   "language": "python",
   "name": "python3"
  },
  "language_info": {
   "codemirror_mode": {
    "name": "ipython",
    "version": 3
   },
   "file_extension": ".py",
   "mimetype": "text/x-python",
   "name": "python",
   "nbconvert_exporter": "python",
   "pygments_lexer": "ipython3",
   "version": "3.12.4"
  }
 },
 "nbformat": 4,
 "nbformat_minor": 2
}
