{
 "cells": [
  {
   "cell_type": "markdown",
   "metadata": {},
   "source": [
    "1.Create SparkSession and Sparkcontext\n",
    "2.Read the input file as RDD using sparkcontext\n",
    "3.Apply filter to get header and data\n",
    "4.Get the indexof the required column\n",
    "5.Function definition to calcukate the final price\n",
    "6.Call the function and create final result as expected\n",
    "7.Save the final spark RDD as textfile\n"
   ]
  },
  {
   "cell_type": "code",
   "execution_count": 2,
   "metadata": {},
   "outputs": [
    {
     "name": "stderr",
     "output_type": "stream",
     "text": [
      "24/09/10 15:37:17 WARN Utils: Your hostname, AI-CJB-LAP-459 resolves to a loopback address: 127.0.1.1; using 192.168.1.164 instead (on interface wlp0s20f3)\n",
      "24/09/10 15:37:17 WARN Utils: Set SPARK_LOCAL_IP if you need to bind to another address\n",
      "Setting default log level to \"WARN\".\n",
      "To adjust logging level use sc.setLogLevel(newLevel). For SparkR, use setLogLevel(newLevel).\n",
      "24/09/10 15:37:28 WARN NativeCodeLoader: Unable to load native-hadoop library for your platform... using builtin-java classes where applicable\n"
     ]
    }
   ],
   "source": [
    "# 1. \n",
    "from pyspark.sql import SparkSession\n",
    "\n",
    "spark= SparkSession.builder.appName(\"practice questions.com\").getOrCreate()\n",
    "df=spark.sparkContext"
   ]
  },
  {
   "cell_type": "code",
   "execution_count": 13,
   "metadata": {},
   "outputs": [
    {
     "name": "stdout",
     "output_type": "stream",
     "text": [
      "['DOCUMENTATION', '', '1.TO CREATE A SPARKSESSION AND SPARKCONTEXT:', '# 1. ', 'from pyspark.sql import SparkSession', '', 'spark= SparkSession.builder.appName(\"practice questions.com\").getOrCreate()', 'df=spark.sparkContext', '']\n"
     ]
    }
   ],
   "source": [
    "# 2.\n",
    "rdd_read=df.textFile(\"/home/ai/Downloads/new/input.txt\")\n",
    "print (rdd_read.collect())"
   ]
  },
  {
   "cell_type": "code",
   "execution_count": null,
   "metadata": {},
   "outputs": [],
   "source": []
  }
 ],
 "metadata": {
  "kernelspec": {
   "display_name": "Python 3",
   "language": "python",
   "name": "python3"
  },
  "language_info": {
   "codemirror_mode": {
    "name": "ipython",
    "version": 3
   },
   "file_extension": ".py",
   "mimetype": "text/x-python",
   "name": "python",
   "nbconvert_exporter": "python",
   "pygments_lexer": "ipython3",
   "version": "3.10.12"
  }
 },
 "nbformat": 4,
 "nbformat_minor": 2
}
