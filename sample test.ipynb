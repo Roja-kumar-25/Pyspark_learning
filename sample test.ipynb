{
 "cells": [
  {
   "cell_type": "markdown",
   "metadata": {},
   "source": [
    "1.Create SparkSession and Sparkcontext\n",
    "2.Read the input file as RDD using sparkcontext\n",
    "3.Apply filter to get header and data\n",
    "4.Get the indexof the required column\n",
    "5.Function definition to calcukate the final price\n",
    "6.Call the function and create final result as expected\n",
    "7.Save the final spark RDD as textfile\n"
   ]
  },
  {
   "cell_type": "code",
   "execution_count": 2,
   "metadata": {},
   "outputs": [
    {
     "name": "stderr",
     "output_type": "stream",
     "text": [
      "24/09/10 16:37:02 WARN Utils: Your hostname, AI-CJB-LAP-459 resolves to a loopback address: 127.0.1.1; using 192.168.1.164 instead (on interface wlp0s20f3)\n",
      "24/09/10 16:37:02 WARN Utils: Set SPARK_LOCAL_IP if you need to bind to another address\n",
      "Setting default log level to \"WARN\".\n",
      "To adjust logging level use sc.setLogLevel(newLevel). For SparkR, use setLogLevel(newLevel).\n",
      "24/09/10 16:37:02 WARN NativeCodeLoader: Unable to load native-hadoop library for your platform... using builtin-java classes where applicable\n"
     ]
    }
   ],
   "source": [
    "# 1. \n",
    "from pyspark.sql import SparkSession\n",
    "\n",
    "spark= SparkSession.builder.appName(\"practice questions.com\").getOrCreate()\n",
    "df=spark.sparkContext"
   ]
  },
  {
   "cell_type": "code",
   "execution_count": 4,
   "metadata": {},
   "outputs": [
    {
     "name": "stdout",
     "output_type": "stream",
     "text": [
      "['Property_ID|Location|Price|Bedrooms|Bathrooms|Size|Price_SQ_FT|Status', '1461262|Arroyo Grande|795000|3|3|2371|365.3|Short Sale', '1478004|Paulo Pablo|399000|4|3|2818|163.59|Short Sale', '1486551|Paulo Pablo|545000|4|3|3032|179.75|Short Sale', '1492832|Santa Bay|909000|4|4|3540|286.78|Short Sale', '1499102|Thomas Country|109900|3|1|1249|98.99|Short Sale', '1489132|Thomas Country|109000|2|1|1129|93.99|Short Sale', '1467262|Fort Worth|987000|4|3|2771|465.3|Short Sale', '1478114|Paulo Pablo|409000|4|3|2918|223.19|Short Sale', '1402551|Nashville|545000|4|3|2932|169.75|Short Sale', '1405832|San Jose|980000|4|4|3340|290.98|Short Sale', '1493302|Fort Worth|119900|3|2|2249|198.99|Short Sale', '1412332|Thomas Country|129000|3|2|1329|73.99|Short Sale', '1469062|Arroyo Grande|798000|3|4|2321|235.9|Short Sale', '1498004|Nashville|789000|4|3|2419|263.59|Short Sale', '1586751|Nashville|896000|4|3|3132|199.75|Short Sale', '1433232|Glendale|987000|4|4|3340|216.78|Short Sale', '1495502|Fort Worth|219900|3|2|987|200.99|Short Sale', '1489100|San Jose|107200|1|1|789|78.99|Short Sale']\n"
     ]
    }
   ],
   "source": [
    "# 2.\n",
    "rdd_read=df.textFile(\"/home/ai/Downloads/Pyspark_learning/input_real_estate.txt\")\n",
    "print (rdd_read.collect())"
   ]
  },
  {
   "cell_type": "code",
   "execution_count": 5,
   "metadata": {},
   "outputs": [
    {
     "name": "stdout",
     "output_type": "stream",
     "text": [
      "['1461262|Arroyo Grande|795000|3|3|2371|365.3|Short Sale', '1478004|Paulo Pablo|399000|4|3|2818|163.59|Short Sale', '1486551|Paulo Pablo|545000|4|3|3032|179.75|Short Sale', '1492832|Santa Bay|909000|4|4|3540|286.78|Short Sale', '1499102|Thomas Country|109900|3|1|1249|98.99|Short Sale', '1489132|Thomas Country|109000|2|1|1129|93.99|Short Sale', '1467262|Fort Worth|987000|4|3|2771|465.3|Short Sale', '1478114|Paulo Pablo|409000|4|3|2918|223.19|Short Sale', '1402551|Nashville|545000|4|3|2932|169.75|Short Sale', '1405832|San Jose|980000|4|4|3340|290.98|Short Sale', '1493302|Fort Worth|119900|3|2|2249|198.99|Short Sale', '1412332|Thomas Country|129000|3|2|1329|73.99|Short Sale', '1469062|Arroyo Grande|798000|3|4|2321|235.9|Short Sale', '1498004|Nashville|789000|4|3|2419|263.59|Short Sale', '1586751|Nashville|896000|4|3|3132|199.75|Short Sale', '1433232|Glendale|987000|4|4|3340|216.78|Short Sale', '1495502|Fort Worth|219900|3|2|987|200.99|Short Sale', '1489100|San Jose|107200|1|1|789|78.99|Short Sale']\n",
      "['Property_ID|Location|Price|Bedrooms|Bathrooms|Size|Price_SQ_FT|Status']\n"
     ]
    }
   ],
   "source": [
    "#3.\n",
    "rdd1=rdd_read.filter(lambda l: not l.startswith(\"Property_ID\"))\n",
    "header=rdd_read.filter(lambda l : l.startswith(\"Property_ID\"))\n",
    "print(rdd1.collect())\n",
    "print(header.collect())"
   ]
  },
  {
   "cell_type": "code",
   "execution_count": 7,
   "metadata": {},
   "outputs": [
    {
     "name": "stdout",
     "output_type": "stream",
     "text": [
      "[['1461262', 'Arroyo Grande', '795000', '3', '3', '2371', '365.3', 'Short Sale'], ['1478004', 'Paulo Pablo', '399000', '4', '3', '2818', '163.59', 'Short Sale'], ['1486551', 'Paulo Pablo', '545000', '4', '3', '3032', '179.75', 'Short Sale'], ['1492832', 'Santa Bay', '909000', '4', '4', '3540', '286.78', 'Short Sale'], ['1499102', 'Thomas Country', '109900', '3', '1', '1249', '98.99', 'Short Sale'], ['1489132', 'Thomas Country', '109000', '2', '1', '1129', '93.99', 'Short Sale'], ['1467262', 'Fort Worth', '987000', '4', '3', '2771', '465.3', 'Short Sale'], ['1478114', 'Paulo Pablo', '409000', '4', '3', '2918', '223.19', 'Short Sale'], ['1402551', 'Nashville', '545000', '4', '3', '2932', '169.75', 'Short Sale'], ['1405832', 'San Jose', '980000', '4', '4', '3340', '290.98', 'Short Sale'], ['1493302', 'Fort Worth', '119900', '3', '2', '2249', '198.99', 'Short Sale'], ['1412332', 'Thomas Country', '129000', '3', '2', '1329', '73.99', 'Short Sale'], ['1469062', 'Arroyo Grande', '798000', '3', '4', '2321', '235.9', 'Short Sale'], ['1498004', 'Nashville', '789000', '4', '3', '2419', '263.59', 'Short Sale'], ['1586751', 'Nashville', '896000', '4', '3', '3132', '199.75', 'Short Sale'], ['1433232', 'Glendale', '987000', '4', '4', '3340', '216.78', 'Short Sale'], ['1495502', 'Fort Worth', '219900', '3', '2', '987', '200.99', 'Short Sale'], ['1489100', 'San Jose', '107200', '1', '1', '789', '78.99', 'Short Sale']]\n"
     ]
    }
   ],
   "source": [
    "#4.\n",
    "rdd2=rdd1.flatMap(lambda x:x.split(\",\")).map(lambda x:x.split(\"|\"))\n",
    "print(rdd2.collect())\n"
   ]
  },
  {
   "cell_type": "markdown",
   "metadata": {},
   "source": [
    "TO GET THE INDEX OF EACH COLUMN"
   ]
  },
  {
   "cell_type": "code",
   "execution_count": 13,
   "metadata": {},
   "outputs": [
    {
     "name": "stdout",
     "output_type": "stream",
     "text": [
      "0\n"
     ]
    }
   ],
   "source": [
    "col_list=header.first().split(\"|\")\n",
    "c1=col_list.index(\"Property_ID\")\n",
    "c2=col_list.index(\"Location\")\n",
    "c3=col_list.index(\"Price_SQ_FT\")\n",
    "c4=col_list.index(\"Bedrooms\")\n",
    "c5=col_list.index(\"Size\")\n",
    "print(c1)"
   ]
  },
  {
   "cell_type": "markdown",
   "metadata": {},
   "source": [
    "FUNCTION TO CALCULATE THE PRICE"
   ]
  },
  {
   "cell_type": "code",
   "execution_count": 14,
   "metadata": {},
   "outputs": [],
   "source": [
    "def calculate_price(c3,c5):\n",
    "    res=float(c3)*float(c5)\n",
    "    return str(res)\n",
    "#call the function\n",
    "header_out=header.map(lambda x:x.split(\"|\")[f1]+\"|\"+x.split(\"|\")[f2]+\"|Final_Price\")\n",
    "rdd3=rdd2.map(lambda x:x[c1]+\"|\"+x[c2]+\"|\"+calculate_price(x[c3],x[c5]))\n",
    "\n",
    "Final_out=header.union(rdd3)"
   ]
  },
  {
   "cell_type": "code",
   "execution_count": 15,
   "metadata": {},
   "outputs": [],
   "source": [
    "Final_out.coalesce(1).saveAsTextFile(\"output.txt\")"
   ]
  }
 ],
 "metadata": {
  "kernelspec": {
   "display_name": "Python 3",
   "language": "python",
   "name": "python3"
  },
  "language_info": {
   "codemirror_mode": {
    "name": "ipython",
    "version": 3
   },
   "file_extension": ".py",
   "mimetype": "text/x-python",
   "name": "python",
   "nbconvert_exporter": "python",
   "pygments_lexer": "ipython3",
   "version": "3.10.12"
  }
 },
 "nbformat": 4,
 "nbformat_minor": 2
}
